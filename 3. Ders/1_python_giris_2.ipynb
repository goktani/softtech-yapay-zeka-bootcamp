{
 "cells": [
  {
   "cell_type": "markdown",
   "id": "7bb9ca74",
   "metadata": {},
   "source": [
    "# Data Types - Veri Tipleri"
   ]
  },
  {
   "cell_type": "markdown",
   "id": "9a29e012",
   "metadata": {},
   "source": [
    "## List - Liste"
   ]
  },
  {
   "cell_type": "code",
   "execution_count": 1,
   "id": "921e2b8d",
   "metadata": {},
   "outputs": [],
   "source": [
    "liste = [\"sut\", \"yumurta\", \"ekmek\"]"
   ]
  },
  {
   "cell_type": "code",
   "execution_count": 2,
   "id": "46bc890c",
   "metadata": {},
   "outputs": [
    {
     "name": "stdout",
     "output_type": "stream",
     "text": [
      "[10, 20, 30]\n"
     ]
    }
   ],
   "source": [
    "liste_fiyat = [10,20,30]\n",
    "print(liste_fiyat)"
   ]
  },
  {
   "cell_type": "code",
   "execution_count": 3,
   "id": "f9d51e8f",
   "metadata": {},
   "outputs": [
    {
     "data": {
      "text/plain": [
       "list"
      ]
     },
     "execution_count": 3,
     "metadata": {},
     "output_type": "execute_result"
    }
   ],
   "source": [
    "type(liste_fiyat)"
   ]
  },
  {
   "cell_type": "code",
   "execution_count": 5,
   "id": "19ed4c42",
   "metadata": {},
   "outputs": [],
   "source": [
    "hafta_liste = [\"Pazartesi\", \"Salı\", \"Çarşamba\", \"Perşembe\", \"Cuma\", \"Cumartesi\", \"Pazar\"]"
   ]
  },
  {
   "cell_type": "code",
   "execution_count": null,
   "id": "adb09586",
   "metadata": {},
   "outputs": [],
   "source": [
    "len(hafta_liste) # Hafta listesinin içindeki eleman sayısı"
   ]
  },
  {
   "cell_type": "code",
   "execution_count": 14,
   "id": "0f410ec2",
   "metadata": {},
   "outputs": [
    {
     "data": {
      "text/plain": [
       "['Pazartesi', 'Çarşamba', 'Cuma', 'Pazar']"
      ]
     },
     "execution_count": 14,
     "metadata": {},
     "output_type": "execute_result"
    }
   ],
   "source": [
    "# İndeksleme\n",
    "\n",
    "hafta_liste[0] # Listenin 0.indeksi \"Pazartesi\"\n",
    "hafta_liste[3] # Listenin 3.indeksi \"Perşembe\"\n",
    "hafta_liste[-1] # Listenin sonuncu indeksi \"Pazar\"\n",
    "hafta_liste[0:4] # Listenin 0.indeksinden 4.indeksine kadar (4 dahil değil) elemanları döndürür. \"['Pazartesi', 'Salı', 'Çarşamba', 'Perşembe']\"\n",
    "hafta_liste[:4] # Üstteki ile aynı sonucu döndürür.\n",
    "hafta_liste[::] # Listenin tamamını döndürür.\n",
    "hafta_liste[::2] # Bazı günleri atlayarak döndürür. \"['Pazartesi', 'Çarşamba', 'Cuma', 'Pazar']\""
   ]
  },
  {
   "cell_type": "code",
   "execution_count": null,
   "id": "6b472d77",
   "metadata": {},
   "outputs": [],
   "source": [
    "# Liste ödevi yap."
   ]
  },
  {
   "cell_type": "code",
   "execution_count": 43,
   "id": "ca75ac3e",
   "metadata": {},
   "outputs": [
    {
     "data": {
      "text/plain": [
       "[7, 6, 5, 3, 2, 1]"
      ]
     },
     "execution_count": 43,
     "metadata": {},
     "output_type": "execute_result"
    }
   ],
   "source": [
    "sayi_listesi = [1,3,2,4,6,5]\n",
    "\n",
    "sayi_listesi.append(7) # Listenin sonuna eklemek istenilen eleman \"7\" eklenir.\n",
    "sayi_listesi.remove(4) # Listeden istenilen (ilk gördüğü) elemanı \"4\" çıkarır.\n",
    "\n",
    "sayi_listesi.reverse() # Listeyi tersine çevirir.\n",
    "sayi_listesi.sort() # Küçükten büyüğe sıralama yapar.\n",
    "sayi_listesi.sort(reverse=True) # Büyükten küçüğe sıralama yapar.\n",
    "\n",
    "sayi_listesi"
   ]
  },
  {
   "cell_type": "markdown",
   "id": "ab2bdf19",
   "metadata": {},
   "source": [
    "## Tuple"
   ]
  },
  {
   "cell_type": "code",
   "execution_count": 26,
   "id": "49fb62ab",
   "metadata": {},
   "outputs": [
    {
     "data": {
      "text/plain": [
       "5"
      ]
     },
     "execution_count": 26,
     "metadata": {},
     "output_type": "execute_result"
    }
   ],
   "source": [
    "tuple_sayi = (1,2,3,3,4,5,6) # Listelerden farklı olarak içindeki elemanlar değiştirilemez.\n",
    "tuple_sayi[-2] # Erişilebilir.\n",
    "tuple_sayi.count(3) # Tuple içinde bulununan istenilen elemanı sayma."
   ]
  },
  {
   "cell_type": "markdown",
   "id": "af3e8d5c",
   "metadata": {},
   "source": [
    "## Dictionary - Sözlük"
   ]
  },
  {
   "cell_type": "code",
   "execution_count": null,
   "id": "f3dc6ac0",
   "metadata": {},
   "outputs": [],
   "source": [
    "dictionary = {\"Anahtar\": 10, \"Key\": \"Ankara\"}"
   ]
  },
  {
   "cell_type": "code",
   "execution_count": 42,
   "id": "920caedb",
   "metadata": {},
   "outputs": [
    {
     "data": {
      "text/plain": [
       "{'İstanbul': 1, 'İzmir': 35, 'Ankara': 6}"
      ]
     },
     "execution_count": 42,
     "metadata": {},
     "output_type": "execute_result"
    }
   ],
   "source": [
    "sehir_plaka = {\"İstanbul\": 34, \"İzmir\": 35, \"Konya\": 42}\n",
    "\n",
    "sehir_plaka.keys() # Anahtarlar gözlemlenir. \"dict_keys(['İstanbul', 'İzmir', 'Konya'])\"\n",
    "sehir_plaka.values() # Değerler gözlemlenir. \"dict_values([34, 35, 42])\"\n",
    "\n",
    "sehir_plaka[\"İzmir\"] # İzmir'e atanmış olan plaka değerini çevirir.\n",
    "sehir_plaka[\"Ankara\"] = 6  # Ankara'yı ve plaka değerini ekler\n",
    "sehir_plaka[\"İstanbul\"] = 1  # İstanbul'un plaka değerini değiştirir\n",
    "del sehir_plaka[\"Konya\"]  # Konya'yı siler\n",
    "\n",
    "sehir_plaka"
   ]
  },
  {
   "cell_type": "markdown",
   "id": "79c7fc5f",
   "metadata": {},
   "source": [
    "## Veri Tipi Dönüşümleri"
   ]
  },
  {
   "cell_type": "code",
   "execution_count": 52,
   "id": "51b11871",
   "metadata": {},
   "outputs": [
    {
     "data": {
      "text/plain": [
       "float"
      ]
     },
     "execution_count": 52,
     "metadata": {},
     "output_type": "execute_result"
    }
   ],
   "source": [
    "metin = \"16\"\n",
    "kesirli_sayi = 10.5\n",
    "tamsayi = 10\n",
    "\n",
    "metin_int = int(metin)\n",
    "type(metin_int)\n",
    "\n",
    "kesirli_sayi_int = int(kesirli_sayi)\n",
    "type(kesirli_sayi_int)\n",
    "\n",
    "kesirli_sayi_str = str(kesirli_sayi)\n",
    "type(kesirli_sayi_str)\n",
    "\n",
    "tamsayi_str = str(tamsayi)\n",
    "type(tamsayi_str)\n",
    "\n",
    "tamsayi_float = float(tamsayi)\n",
    "type(tamsayi_float)"
   ]
  },
  {
   "cell_type": "markdown",
   "id": "99eae57e",
   "metadata": {},
   "source": [
    "## Koşullu İfadeler - If/Else"
   ]
  },
  {
   "cell_type": "code",
   "execution_count": 62,
   "id": "58bb1dea",
   "metadata": {},
   "outputs": [
    {
     "name": "stdout",
     "output_type": "stream",
     "text": [
      "2.sayı 1.sayıdan büyüktür.\n"
     ]
    }
   ],
   "source": [
    "sayi1 = 15\n",
    "sayi2 = 19\n",
    "\n",
    "if sayi1 > sayi2: # Eğer True ise if içerisine gir. Değil ise diğer koşullara geç.\n",
    "    print(\"1.sayı 2.sayıdan büyüktür.\")\n",
    "elif sayi2 > sayi1: # Eğer True ise elif içerisine gir. Değil ise diğer koşullara geç.\n",
    "    print(\"2.sayı 1.sayıdan büyüktür.\")\n",
    "else: # Eğer true ise else içerisine gir. Mümkün tüm aralıklar tanımlı olduğu için False ise hata döndürür.\n",
    "    print(\"1.sayı ve 2.sayı birbirine eşittir.\")"
   ]
  },
  {
   "cell_type": "code",
   "execution_count": 63,
   "id": "79d1eb7b",
   "metadata": {},
   "outputs": [
    {
     "name": "stdout",
     "output_type": "stream",
     "text": [
      "10 değeri listenin içerisinde değil.\n"
     ]
    }
   ],
   "source": [
    "# Problem: Değer listenin içerisinde mi, değil mi?\n",
    "liste = [1, 2, 3, 4, 5]\n",
    "deger = 10\n",
    "\n",
    "if deger in liste:\n",
    "    print(f\"{deger} değeri listenin içerisinde\")\n",
    "else:\n",
    "    print(f\"{deger} değeri listenin içerisinde değil.\")"
   ]
  },
  {
   "cell_type": "code",
   "execution_count": 71,
   "id": "e4dd9aae",
   "metadata": {},
   "outputs": [
    {
     "name": "stdout",
     "output_type": "stream",
     "text": [
      "Ispanya değeri sözlükte bulunmuyor.\n"
     ]
    }
   ],
   "source": [
    "# Problem: Ülke isimleri dictionary içerisinde var mı, yok mu?\n",
    "ulke_baskent = {\"Türkiye\": \"Ankara\", \"İngiltere\": \"Londra\", \"Almanya\": \"Berlin\"}\n",
    "deger = \"Ispanya\"\n",
    "\n",
    "if deger in ulke_baskent.keys():\n",
    "    print(f\"{deger} değeri sözlükte mevcut.\")\n",
    "else:\n",
    "    print(f\"{deger} değeri sözlükte bulunmuyor.\")"
   ]
  },
  {
   "cell_type": "code",
   "execution_count": 72,
   "id": "189aae45",
   "metadata": {},
   "outputs": [
    {
     "name": "stdout",
     "output_type": "stream",
     "text": [
      "Pazartesi günü listenin 2.indeksinde\n"
     ]
    }
   ],
   "source": [
    "# liste = haftanın günleri\n",
    "# eğer pazartesi günü listenin içerisinde 2.indekste ise \"Pazartesi günü listenin 2.indeksinde\" yazsın.\n",
    "\n",
    "hafta_list = [\"Salı\", \"Çarşamba\", \"Pazartesi\", \"Perşembe\", \"Cuma\", \"Cumartesi\", \"Pazar\"]\n",
    "deger = \"Pazartesi\"\n",
    "\n",
    "if deger == hafta_list[2]:\n",
    "    print(f\"{deger} günü listenin 2.indeksinde\")\n",
    "else:\n",
    "    print(f\"{deger} günü listenin 2.indeksinde değil\")"
   ]
  },
  {
   "cell_type": "markdown",
   "id": "2eb3701f",
   "metadata": {},
   "source": [
    "## For Döngüsü"
   ]
  },
  {
   "cell_type": "code",
   "execution_count": 73,
   "id": "5488a308",
   "metadata": {},
   "outputs": [
    {
     "name": "stdout",
     "output_type": "stream",
     "text": [
      "1\n",
      "2\n",
      "3\n",
      "4\n",
      "5\n",
      "6\n",
      "7\n",
      "8\n",
      "9\n",
      "10\n"
     ]
    }
   ],
   "source": [
    "for i in range(1,11): # 1'den 11'e kadar olan sayıları çevirir.\n",
    "    print(i) # Her bir iterasyonda çevirilen sayılar yazdırılır."
   ]
  },
  {
   "cell_type": "code",
   "execution_count": 76,
   "id": "896225ba",
   "metadata": {},
   "outputs": [
    {
     "name": "stdout",
     "output_type": "stream",
     "text": [
      "Pazartesi\n",
      "Salı\n",
      "Çarşamba\n",
      "Perşembe\n",
      "Cuma\n",
      "Cumartesi\n",
      "Pazar\n",
      "P\n",
      "a\n",
      "z\n",
      "a\n",
      "r\n",
      "t\n",
      "e\n",
      "s\n",
      "i\n"
     ]
    }
   ],
   "source": [
    "for i in [\"Pazartesi\", \"Salı\", \"Çarşamba\", \"Perşembe\", \"Cuma\", \"Cumartesi\", \"Pazar\"]:\n",
    "    print(i)\n",
    "    \n",
    "for i in \"Pazartesi\": # String = karakter dizisi\n",
    "    print(i)"
   ]
  },
  {
   "cell_type": "code",
   "execution_count": 86,
   "id": "b152364a",
   "metadata": {},
   "outputs": [
    {
     "name": "stdout",
     "output_type": "stream",
     "text": [
      "45\n",
      "45\n"
     ]
    }
   ],
   "source": [
    "liste = [1,2,3,4,5,6,7,8,9]\n",
    "\n",
    "toplam = 0\n",
    "for i in liste:\n",
    "    toplam = toplam + i\n",
    "    \n",
    "print(toplam)\n",
    "print(sum(liste))"
   ]
  },
  {
   "cell_type": "code",
   "execution_count": 93,
   "id": "443afca8",
   "metadata": {},
   "outputs": [
    {
     "name": "stdout",
     "output_type": "stream",
     "text": [
      "['bugün', 'python', 'dersi̇miz', 'var.']\n"
     ]
    }
   ],
   "source": [
    "\"\"\"\n",
    "Problem: Elimizde str olarak cümle var. Mesela: \"Bugün Python Dersimiz Var.\"\n",
    "tüm kelimeleri ayırarak bir liste oluşturmak istiyorum\n",
    "ve büyük harflerle başlamasını sağlamak istiyorum.\n",
    "[\"bugün\", \"python\", \"dersimiz\", \"var\"]\n",
    "\"\"\"\n",
    "\n",
    "cumle = \"Bugün Python Dersimiz Var.\"\n",
    "liste = []\n",
    "\n",
    "for i in cumle.split(): # Split: Boşluklara göre ayırma işlemi yaparak liste oluşturur.\n",
    "    kucuk_harf = i.lower() # Lower: Tüm harfleri küçük harfe çevirir.\n",
    "    liste.append(kucuk_harf) # Append: Listeye ekleme yapar.\n",
    "\n",
    "print(liste)"
   ]
  },
  {
   "cell_type": "code",
   "execution_count": 111,
   "id": "560680ab",
   "metadata": {},
   "outputs": [
    {
     "data": {
      "text/plain": [
       "12"
      ]
     },
     "execution_count": 111,
     "metadata": {},
     "output_type": "execute_result"
    }
   ],
   "source": [
    "\"\"\"\n",
    "Problem: liste = [1,2,3,4,5,6]\n",
    "fonksiyon\n",
    "    girdi: liste\n",
    "    çıktısı: listenin içerisinde bulunan çift sayıların toplamı olacak.\n",
    "\"\"\"\n",
    "liste = [1,2,3,4,5,6]\n",
    "\n",
    "def cift_sayi_toplam(liste):\n",
    "    toplam = 0\n",
    "    for i in liste:\n",
    "        if i % 2 == 0:\n",
    "            toplam += i\n",
    "    return toplam\n",
    "    \n",
    "cift_sayi_toplam(liste)"
   ]
  },
  {
   "cell_type": "markdown",
   "id": "64586a99",
   "metadata": {},
   "source": [
    "## While Döngüsü"
   ]
  },
  {
   "cell_type": "code",
   "execution_count": 114,
   "id": "7bc49dbb",
   "metadata": {},
   "outputs": [
    {
     "name": "stdout",
     "output_type": "stream",
     "text": [
      "0\n",
      "1\n",
      "2\n",
      "3\n"
     ]
    }
   ],
   "source": [
    "i = 0\n",
    "while(i < 4): # i < 4'ün sağlandığı (true) tüm durumlarda döngüyü çevirir.\n",
    "    print(i) \n",
    "    i += 1"
   ]
  },
  {
   "cell_type": "code",
   "execution_count": 121,
   "id": "83d0022c",
   "metadata": {},
   "outputs": [
    {
     "name": "stdout",
     "output_type": "stream",
     "text": [
      "21\n"
     ]
    }
   ],
   "source": [
    "liste = [1,2,3,4,5,6]\n",
    "\n",
    "i = 0\n",
    "toplam = 0\n",
    "while(i < len(liste)): # Len: listenin içerisinde bulunan eleman sayısını verir.\n",
    "    toplam += liste[i]\n",
    "    i = i + 1\n",
    "print(toplam)"
   ]
  }
 ],
 "metadata": {
  "kernelspec": {
   "display_name": "Python 3 (ipykernel)",
   "language": "python",
   "name": "python3"
  },
  "language_info": {
   "codemirror_mode": {
    "name": "ipython",
    "version": 3
   },
   "file_extension": ".py",
   "mimetype": "text/x-python",
   "name": "python",
   "nbconvert_exporter": "python",
   "pygments_lexer": "ipython3",
   "version": "3.11.5"
  }
 },
 "nbformat": 4,
 "nbformat_minor": 5
}
