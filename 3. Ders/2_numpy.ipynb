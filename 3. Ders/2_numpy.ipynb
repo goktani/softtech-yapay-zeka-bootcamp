{
 "cells": [
  {
   "cell_type": "markdown",
   "id": "8ce76630",
   "metadata": {},
   "source": [
    "# Numpy"
   ]
  },
  {
   "cell_type": "code",
   "execution_count": 34,
   "id": "f7fd7dfb",
   "metadata": {},
   "outputs": [],
   "source": [
    "import numpy as np # Kütüphanenin import edilmesi"
   ]
  },
  {
   "cell_type": "code",
   "execution_count": 35,
   "id": "f0ba3375",
   "metadata": {},
   "outputs": [
    {
     "data": {
      "text/plain": [
       "array([ 1,  2,  3,  4,  5,  6,  7,  8,  9, 10, 11, 12, 13, 14, 15])"
      ]
     },
     "execution_count": 35,
     "metadata": {},
     "output_type": "execute_result"
    }
   ],
   "source": [
    "# liste = [1,2,3,4,5,6,7,8,9,10,11,12,13,14,15]\n",
    "dizi = np.array([1,2,3,4,5,6,7,8,9,10,11,12,13,14,15]) # Array matematiksel operasyonların yapılmasını kolaylaştırır.\n",
    "dizi"
   ]
  },
  {
   "cell_type": "code",
   "execution_count": 36,
   "id": "84c8f63f",
   "metadata": {},
   "outputs": [
    {
     "data": {
      "text/plain": [
       "(15,)"
      ]
     },
     "execution_count": 36,
     "metadata": {},
     "output_type": "execute_result"
    }
   ],
   "source": [
    "dizi.shape # Array boyutu gözlemlenir. 15x1'lik bir vektör."
   ]
  },
  {
   "cell_type": "code",
   "execution_count": 37,
   "id": "fabe099a",
   "metadata": {},
   "outputs": [
    {
     "data": {
      "text/plain": [
       "array([[ 1,  2,  3,  4,  5],\n",
       "       [ 6,  7,  8,  9, 10],\n",
       "       [11, 12, 13, 14, 15]])"
      ]
     },
     "execution_count": 37,
     "metadata": {},
     "output_type": "execute_result"
    }
   ],
   "source": [
    "dizi2 = dizi.reshape(3,5) # 3x5 (3 satır, 5 sütundan oluşan)'lik bir matrise çevirilmiş hali.\n",
    "dizi2"
   ]
  },
  {
   "cell_type": "code",
   "execution_count": 38,
   "id": "dc9b4978",
   "metadata": {},
   "outputs": [
    {
     "name": "stdout",
     "output_type": "stream",
     "text": [
      "Shape:  (3, 5)\n",
      "Dimension:  2\n",
      "Size:  15\n",
      "Type:  <class 'numpy.ndarray'>\n"
     ]
    }
   ],
   "source": [
    "print(\"Shape: \", dizi2.shape)\n",
    "print(\"Dimension: \", dizi2.ndim)\n",
    "print(\"Size: \", dizi2.size)\n",
    "print(\"Type: \", type(dizi2))"
   ]
  },
  {
   "cell_type": "code",
   "execution_count": 39,
   "id": "9f1a2906",
   "metadata": {},
   "outputs": [
    {
     "data": {
      "text/plain": [
       "array([[1, 2, 3, 4],\n",
       "       [5, 6, 7, 8],\n",
       "       [9, 8, 7, 6]])"
      ]
     },
     "execution_count": 39,
     "metadata": {},
     "output_type": "execute_result"
    }
   ],
   "source": [
    "dizi2D = np.array(([1,2,3,4],[5,6,7,8],[9,8,7,6])) # 2 Boyutlu matrisin elle tanımı\n",
    "dizi2D"
   ]
  },
  {
   "cell_type": "code",
   "execution_count": 40,
   "id": "8f3001d4",
   "metadata": {},
   "outputs": [
    {
     "data": {
      "text/plain": [
       "array([[0., 0., 0., 0.],\n",
       "       [0., 0., 0., 0.],\n",
       "       [0., 0., 0., 0.]])"
      ]
     },
     "execution_count": 40,
     "metadata": {},
     "output_type": "execute_result"
    }
   ],
   "source": [
    "sifir_dizi = np.zeros((3,4)) # 0'lardan oluşan 3x4'lük bir matris.\n",
    "sifir_dizi "
   ]
  },
  {
   "cell_type": "code",
   "execution_count": 41,
   "id": "3449b034",
   "metadata": {},
   "outputs": [
    {
     "data": {
      "text/plain": [
       "array([[1., 1., 1., 1.],\n",
       "       [1., 1., 1., 1.],\n",
       "       [1., 1., 1., 1.]])"
      ]
     },
     "execution_count": 41,
     "metadata": {},
     "output_type": "execute_result"
    }
   ],
   "source": [
    "bir_dizi = np.ones((3,4)) # 1'lerden oluşan 3x4'lük bir matris.\n",
    "bir_dizi"
   ]
  },
  {
   "cell_type": "code",
   "execution_count": 42,
   "id": "def65e8a",
   "metadata": {},
   "outputs": [
    {
     "data": {
      "text/plain": [
       "array([[0., 0., 0., 0.],\n",
       "       [0., 0., 0., 0.]])"
      ]
     },
     "execution_count": 42,
     "metadata": {},
     "output_type": "execute_result"
    }
   ],
   "source": [
    "bos_dizi = np.empty((2,4)) # 0'a çok yakın değerlerden oluşan 2x4'lük bir matris\n",
    "bos_dizi"
   ]
  },
  {
   "cell_type": "code",
   "execution_count": 43,
   "id": "b029e584",
   "metadata": {},
   "outputs": [
    {
     "data": {
      "text/plain": [
       "array([10, 15, 20, 25, 30, 35, 40, 45])"
      ]
     },
     "execution_count": 43,
     "metadata": {},
     "output_type": "execute_result"
    }
   ],
   "source": [
    "# arange(x,y,basamak) x'den başlar y'ye kadar basamak büyüklüğünde artarak ilerler.\n",
    "dizi_aralik = np.arange(10,50,5)\n",
    "dizi_aralik"
   ]
  },
  {
   "cell_type": "code",
   "execution_count": 44,
   "id": "b29d6feb",
   "metadata": {},
   "outputs": [
    {
     "data": {
      "text/plain": [
       "array([10.        , 14.44444444, 18.88888889, 23.33333333, 27.77777778,\n",
       "       32.22222222, 36.66666667, 41.11111111, 45.55555556, 50.        ])"
      ]
     },
     "execution_count": 44,
     "metadata": {},
     "output_type": "execute_result"
    }
   ],
   "source": [
    "# linspace (x,y,basamak) x'den başlar y'ye kadar(y dahil) basamak kadar sayıya bölerek ilerler.\n",
    "dizi_bosluk = np.linspace(10,50,10)\n",
    "dizi_bosluk"
   ]
  },
  {
   "cell_type": "markdown",
   "id": "6aa9df96",
   "metadata": {},
   "source": [
    "## Temel Operasyonlar"
   ]
  },
  {
   "cell_type": "code",
   "execution_count": 46,
   "id": "ac23cd33",
   "metadata": {},
   "outputs": [
    {
     "name": "stdout",
     "output_type": "stream",
     "text": [
      "Toplama:  [5 7 9]\n",
      "Çıkarma:  [-3 -3 -3]\n",
      "Dizinin karesi:  [1 4 9] [16 25 36]\n"
     ]
    }
   ],
   "source": [
    "a = np.array([1,2,3])\n",
    "b = np.array([4,5,6])\n",
    "\n",
    "print(\"Toplama: \", a + b)\n",
    "print(\"Çıkarma: \", a - b)\n",
    "print(\"Dizinin karesi: \", a**2, b**2)"
   ]
  },
  {
   "cell_type": "code",
   "execution_count": 45,
   "id": "9fe11f2d",
   "metadata": {},
   "outputs": [
    {
     "data": {
      "text/plain": [
       "array([0, 1])"
      ]
     },
     "execution_count": 45,
     "metadata": {},
     "output_type": "execute_result"
    }
   ],
   "source": [
    "# Filtering - Filtreleme\n",
    "\n",
    "c = np.array([0,1,2,3])\n",
    "filtre = c < 2 # c array'nin içinde bulunan 2'den küçük değerleri gösterir.\n",
    "c[filtre]"
   ]
  },
  {
   "cell_type": "code",
   "execution_count": null,
   "id": "43894208",
   "metadata": {},
   "outputs": [],
   "source": [
    "d = np.array([[1,2,3], [4,5,6]]) # 2x3\n",
    "e = np.array([[4,5,6], [1,2,3]]) # 2x3 -> T -> 3x2\n",
    "\n",
    "print(d.dot(e.T)) # 2x2'lik bir matris çarpımı elde edilir.\n",
    "\n",
    "print(sum(d))\n",
    "print(np.sum(d)) # Matris toplamı gerçekleştirir.\n",
    "\n",
    "print(d.sum(axis = 1)) # Satır toplamı yapar.\n",
    "print(d.sum(axis = 0)) # Sütun toplamı yapar.\n",
    "\n",
    "print(\"Max değer: \", np.max(d)) # Maximum değer gözlemlenir.\n",
    "print(\"Min değer: \", np.min(d)) # Minimum değer gözlemlenir.\n",
    "\n",
    "print(np.sqrt(d)) # Kök alma işlemi uygular.\n",
    "print(np.square(d)) # Kare alma işlemi uygular."
   ]
  },
  {
   "cell_type": "code",
   "execution_count": 47,
   "id": "09ab681e",
   "metadata": {},
   "outputs": [
    {
     "data": {
      "text/plain": [
       "array([ -0.32891223,   0.79809624, 100.57182753])"
      ]
     },
     "execution_count": 47,
     "metadata": {},
     "output_type": "execute_result"
    }
   ],
   "source": [
    "rastgele_dizi = np.random.random((3,3)) # 3x3 boyutunda, 0 ile 1 arasında rastgele değerlerden oluşan bir dizi oluşturur.\n",
    "rastgele_dizi\n",
    "\n",
    "rastgele_norm_dizi = np.random.normal((0, 1, 100)) # 0 ortalama, 1 standart sapma ile 100 değer üreten normal dağılım\n",
    "rastgele_norm_dizi"
   ]
  },
  {
   "cell_type": "markdown",
   "id": "ce1c3153",
   "metadata": {},
   "source": [
    "## Indexing / Slicing - İndeksleme / Dilimleme"
   ]
  },
  {
   "cell_type": "code",
   "execution_count": null,
   "id": "7308d87f",
   "metadata": {},
   "outputs": [],
   "source": [
    "dizi = np.array([1,2,3,4,5,6,7])\n",
    "\n",
    "dizi[0] # Dizinin 0.indeksindeki değeri yazdırır.\n",
    "dizi[0:3] # Dizinin 0.indeks (dahil) ve 3.indeks arasındaki değeri yazdırır.\n",
    "dizi[:3] # Dizinin 0.indeks (dahil) ve 3.indeks arasındaki değeri yazdırır.\n",
    "\n",
    "dizi[::-1] # Diziyi ters çevirir"
   ]
  },
  {
   "cell_type": "code",
   "execution_count": null,
   "id": "3819dacd",
   "metadata": {},
   "outputs": [],
   "source": [
    "dizi2D = np.array([[1,2,3,4,5],[6,7,8,9,10]])\n",
    "print(dizi2D)\n",
    "\n",
    "dizi2D[0,0] # 0.Satır 0.Sütundaki değeri yazdırır.\n",
    "dizi2D[1,2] # 1.Satır 2.Sütundaki değeri yazdırır.\n",
    "dizi2D[1,:] # 1.Satırdaki tüm değerleri yazdırır.\n",
    "dizi2D[:,2:4] # 0 ve 1. Satırdaki 2. ve 3. sütundaki değerleri dilimler ve yazdırır."
   ]
  },
  {
   "cell_type": "markdown",
   "id": "ae4e7996",
   "metadata": {},
   "source": [
    "## Shape Manipulation - Şekil Manipülasyonu"
   ]
  },
  {
   "cell_type": "code",
   "execution_count": null,
   "id": "430c4829",
   "metadata": {},
   "outputs": [],
   "source": [
    "dizi2D = np.array([[1,2,3],[4,5,6],[7,8,9]])\n",
    "\n",
    "dizi2D_shape = dizi2D.shape # Dizi2D değişkenimizin boyut değerini farklı bir değişkene tekrardan kullanmak için atadık.\n",
    "\n",
    "dizi2D.reshape(dizi2D_shape[0]*dizi2D_shape[1],1) # 9x1'lik bir vektöre çevirdik.\n",
    "# Bir matristeki tüm elemanları tek bir sütun olarak almak, genellikle işlem kolaylığı sağlar.\n",
    "\n",
    "dizi2D.ravel() # Tensorflow --> flatten. Üstteki kodla aynı işlemi yapar.\n",
    "\n",
    "dizi2D.T # Transpose alma işlemi bu şekilde yapılır."
   ]
  },
  {
   "cell_type": "code",
   "execution_count": null,
   "id": "fd39b4c4",
   "metadata": {},
   "outputs": [],
   "source": [
    "\"\"\"\n",
    "Ders İçi Ödev\n",
    "1-) A array = 2 boyutlu bir tane array -> (3,5)\n",
    "2-) B array = 1 boyutlu bir tane array -> (15,)\n",
    "3-) B array'ini (3,5) olacak şekilde reshape yapalım.\n",
    "4-) C = A + B\n",
    "5-) D=linspace ve E=arange ile (3,5) lik matrisler oluşturalım\n",
    "6-) F = D + E\n",
    "7-) C'nin ve F'nin her bir elemanını for döngüsü ile eleman eleman çarpıp G = (15,1)\n",
    "8-) C ve F'yi (15,1) sonrasında C'nin ilk elemanı ile F'nin son elemanı toplayarak ilerleyelim.\n",
    "9-) Toplam değerleri 1'den büyükse G1 isimli bir listeye, küçükse G2'ye atayalım.\n",
    "\"\"\"\n",
    "\n",
    "# 1-)\n",
    "A = np.array([[1,2,3,4,5],[6,7,8,9,10],[11,12,13,14,15]])\n",
    "\n",
    "print(A)\n",
    "print(\"Boyut Sayısı: \", A.ndim)\n",
    "print(\"Boyut: \", A.shape)\n",
    "\n",
    "# 2-)\n",
    "B = np.array(np.arange(15))\n",
    "\n",
    "print(B)\n",
    "print(\"Boyut Sayısı: \", B.ndim)\n",
    "print(\"Boyut: \", B.shape)\n",
    "\n",
    "# 3-)\n",
    "B_reshaped = B.reshape(3,5)\n",
    "print(\"Boyut: \", B_reshaped.shape)\n",
    "\n",
    "# 4-)\n",
    "C = A + B_reshaped\n",
    "print(\"C Dizisi (A + B):\")\n",
    "print(C)\n",
    "\n",
    "# 5-)\n",
    "D = np.linspace(0, 14, 15).reshape(3, 5)  # 0 ile 14 arasında 15 sayıyı eşit aralıklarla oluşturup 3x5 matris haline getiriyoruz\n",
    "print(\"D (linspace ile oluşturulmuş matris):\")\n",
    "print(D)\n",
    "\n",
    "E = np.arange(15).reshape(3, 5)  # 0 ile 14 arasındaki sayıları arange ile oluşturup 3x5 matris haline getiriyoruz\n",
    "print(\"E (arange ile oluşturulmuş matris):\")\n",
    "print(E)\n",
    "\n",
    "# 6-)\n",
    "F = D + E\n",
    "print(\"F Dizisi (D + E):\")\n",
    "print(F)\n",
    "\n",
    "# 7-)\n",
    "G = np.zeros((15, 1))  # G dizisini (15, 1) boyutunda sıfırlarla başlatıyoruz\n",
    "index = 0  # C ve F dizilerinin elemanlarını sırasıyla çarpmak için bir index\n",
    "\n",
    "for i in range(C.shape[0]):  # Satırlar üzerinden dönecek\n",
    "    for j in range(C.shape[1]):  # Sütunlar üzerinden dönecek\n",
    "        G[index] = C[i, j] * F[i, j]  # Elemanları çarpıyoruz\n",
    "        index += 1  # Bir sonraki index'e geçiyoruz\n",
    "\n",
    "print(\"G Dizisi (C ve F'nin elemanlarının çarpımı):\")\n",
    "print(G)\n",
    "\n",
    "# 8 ve 9-)\n",
    "C_reshaped = C.reshape(15,1)\n",
    "F_reshaped = F.reshape(15,1)\n",
    "\n",
    "G1 = []  # Toplamları 1'den büyük olanlar\n",
    "G2 = []  # Toplamları 1'den küçük veya eşit olanlar\n",
    "\n",
    "for i in range(len(C_reshaped)):\n",
    "    toplam = C_reshaped[i, 0] + F_reshaped[-(i + 1), 0]  # İlk eleman ile son eleman, sırayla toplama\n",
    "    if toplam > 1:\n",
    "        G1.append(toplam)\n",
    "    else:\n",
    "        G2.append(toplam)\n",
    "\n",
    "print(G1, G2)"
   ]
  }
 ],
 "metadata": {
  "kernelspec": {
   "display_name": "Python 3 (ipykernel)",
   "language": "python",
   "name": "python3"
  },
  "language_info": {
   "codemirror_mode": {
    "name": "ipython",
    "version": 3
   },
   "file_extension": ".py",
   "mimetype": "text/x-python",
   "name": "python",
   "nbconvert_exporter": "python",
   "pygments_lexer": "ipython3",
   "version": "3.11.5"
  }
 },
 "nbformat": 4,
 "nbformat_minor": 5
}
