{
 "cells": [
  {
   "cell_type": "markdown",
   "id": "a944010b",
   "metadata": {},
   "source": [
    "## Variable Types - Degisken Türleri"
   ]
  },
  {
   "cell_type": "code",
   "execution_count": 8,
   "id": "d2eda254",
   "metadata": {
    "scrolled": true
   },
   "outputs": [
    {
     "name": "stdout",
     "output_type": "stream",
     "text": [
      "10\n",
      "12\n"
     ]
    }
   ],
   "source": [
    "# Integer(int) - Tam Sayı\n",
    "\n",
    "tam_sayi = 10 # 10 tam sayısı için 'tamsayi' adında bir değişken tanımlandı.\n",
    "tam_sayi2 = 12\n",
    "print(tam_sayi)\n",
    "print(tam_sayi2)"
   ]
  },
  {
   "cell_type": "code",
   "execution_count": 6,
   "id": "328a952f",
   "metadata": {},
   "outputs": [
    {
     "name": "stdout",
     "output_type": "stream",
     "text": [
      "10.5\n"
     ]
    }
   ],
   "source": [
    "# Float - Kesirli Sayı\n",
    "\n",
    "kesirli_sayi = 10.5\n",
    "print(kesirli_sayi)"
   ]
  },
  {
   "cell_type": "code",
   "execution_count": 9,
   "id": "2a20086e",
   "metadata": {},
   "outputs": [
    {
     "name": "stdout",
     "output_type": "stream",
     "text": [
      "22\n"
     ]
    }
   ],
   "source": [
    "# 4 İşlem\n",
    "\n",
    "toplam = tam_sayi + tam_sayi2\n",
    "cikarma = tam_sayi - tam_sayi2\n",
    "carpma = tam_sayi * tam_sayi2\n",
    "bolme = tam_sayi / tam_sayi2\n",
    "\n",
    "print(toplam)\n",
    "print(cikarma)\n",
    "print(carpma)\n",
    "print(bolme)"
   ]
  },
  {
   "cell_type": "code",
   "execution_count": 10,
   "id": "223ea0d5",
   "metadata": {},
   "outputs": [
    {
     "name": "stdout",
     "output_type": "stream",
     "text": [
      "Hello World\n"
     ]
    }
   ],
   "source": [
    "# String - Metin\n",
    "\n",
    "metin = 'Hello World'\n",
    "print(metin)"
   ]
  },
  {
   "cell_type": "code",
   "execution_count": 11,
   "id": "3386110b",
   "metadata": {},
   "outputs": [
    {
     "data": {
      "text/plain": [
       "str"
      ]
     },
     "execution_count": 11,
     "metadata": {},
     "output_type": "execute_result"
    }
   ],
   "source": [
    "# Type() - Değişken tipi sorgulama\n",
    "\n",
    "type(metin)"
   ]
  },
  {
   "cell_type": "code",
   "execution_count": 18,
   "id": "27a9ca78",
   "metadata": {},
   "outputs": [
    {
     "data": {
      "text/plain": [
       "'Merhaba dünya'"
      ]
     },
     "execution_count": 18,
     "metadata": {},
     "output_type": "execute_result"
    }
   ],
   "source": [
    "metin1 = 'Merhaba'\n",
    "metin2 = 'dünya'\n",
    "\n",
    "metin1 + ' ' + metin2"
   ]
  },
  {
   "cell_type": "code",
   "execution_count": 21,
   "id": "495805e5",
   "metadata": {},
   "outputs": [
    {
     "name": "stdout",
     "output_type": "stream",
     "text": [
      "elma: 10 tl, armut: 20 tl\n",
      "elma: 10 tl, armut: 20 tl\n"
     ]
    }
   ],
   "source": [
    "# F string\n",
    "\n",
    "elma = 10\n",
    "armut = 20\n",
    "\n",
    "print(f\"elma: {elma} tl, armut: {armut} tl\")\n",
    "print(\"elma: {} tl, armut: {} tl\".format(elma, armut))"
   ]
  },
  {
   "cell_type": "markdown",
   "id": "f570563a",
   "metadata": {},
   "source": [
    "## Python Syntax - Söz Dizimi"
   ]
  },
  {
   "cell_type": "code",
   "execution_count": 22,
   "id": "26881fe5",
   "metadata": {},
   "outputs": [
    {
     "name": "stdout",
     "output_type": "stream",
     "text": [
      "6 7\n"
     ]
    }
   ],
   "source": [
    "temel = 6\n",
    "TEMEL = 7 # Bu iki değişken birbirinden farklıdır.\n",
    "\n",
    "print(temel, TEMEL)"
   ]
  },
  {
   "cell_type": "code",
   "execution_count": 47,
   "id": "8901ce17",
   "metadata": {
    "scrolled": false
   },
   "outputs": [
    {
     "data": {
      "text/plain": [
       "'\\nBu\\nŞekilde\\nİstediğim\\nKadar\\nYorum\\nYazabilirim.\\n'"
      ]
     },
     "execution_count": 47,
     "metadata": {},
     "output_type": "execute_result"
    }
   ],
   "source": [
    "# Comment - Yorum\n",
    "\n",
    "\"\"\"\n",
    "Bu\n",
    "Şekilde\n",
    "İstediğim\n",
    "Kadar\n",
    "Yorum\n",
    "Yazabilirim.\n",
    "\"\"\""
   ]
  },
  {
   "cell_type": "code",
   "execution_count": null,
   "id": "7d6caf00",
   "metadata": {},
   "outputs": [],
   "source": [
    "#print = 10 - Fonksiyonlar değişken isimleri olarak kullanılmaz.\n",
    "#print(5) - Çalışmaz."
   ]
  },
  {
   "cell_type": "markdown",
   "id": "fc11b454",
   "metadata": {},
   "source": [
    "## Functions - Fonksiyonlar"
   ]
  },
  {
   "cell_type": "code",
   "execution_count": 40,
   "id": "c631fa80",
   "metadata": {
    "scrolled": false
   },
   "outputs": [
    {
     "name": "stdout",
     "output_type": "stream",
     "text": [
      "Dairenin alanı: 28.26 birim kare\n"
     ]
    },
    {
     "data": {
      "text/plain": [
       "28.26"
      ]
     },
     "execution_count": 40,
     "metadata": {},
     "output_type": "execute_result"
    }
   ],
   "source": [
    "# User Defined Functions - Kullanıcı Tanımlı Fonksiyonlar\n",
    "\n",
    "# Dairenin alanını hesaplayan fonksiyon\n",
    "def alan_hesapla(yaricap):\n",
    "    \"\"\"\n",
    "    Description: Bu fonksiyon, dairenin alanını hesaplar.\n",
    "    Input parameters:\n",
    "        yaricap (float): Dairenin yarıçapı.\n",
    "    Output:\n",
    "        float: Dairenin alanı (pi * yarıçap^2) birim kare cinsinden döndürülür.\n",
    "    \"\"\"\n",
    "    pi = 3.14\n",
    "    daire_alan = pi*(yaricap**2)\n",
    "    \n",
    "    print(f\"Dairenin alanı: {daire_alan} birim kare\")\n",
    "    return daire_alan\n",
    "    \n",
    "alan_hesapla(3) # 3 burda dışarıdan girilen yarıçap değeri."
   ]
  },
  {
   "cell_type": "code",
   "execution_count": 31,
   "id": "e5d0950e",
   "metadata": {},
   "outputs": [
    {
     "name": "stdout",
     "output_type": "stream",
     "text": [
      "Dikdörtgenin alanı: 50 birim kare\n",
      "Dikdörtgenin çevresi: 30 birim\n"
     ]
    }
   ],
   "source": [
    "# Teneffüs - Ödev fonksiyon\n",
    "\n",
    "# Dikdörtgen alan ve çevre hesaplayan fonksiyon\n",
    "def dikdortgen_hesap(uzunluk, genislik):\n",
    "    \"\"\"\n",
    "    Description: Bu fonksiyon, dikdörtgenin alanını ve çevresini hesaplar.\n",
    "    Input parameters:\n",
    "        uzunluk (float): Dikdörtgenin uzun kenarının uzunluğu.\n",
    "        genislik (float): Dikdörtgenin kısa kenarının uzunluğu.\n",
    "    Output:\n",
    "        tuple: Dikdörtgenin alanı ve çevresi sırasıyla döndürülür.\n",
    "    \"\"\"\n",
    "    alan = uzunluk * genislik\n",
    "    cevre = 2 * (uzunluk + genislik)\n",
    "    \n",
    "    print(f\"Dikdörtgenin alanı: {alan} birim kare\")\n",
    "    print(f\"Dikdörtgenin çevresi: {cevre} birim\")\n",
    "    return alan, cevre\n",
    "    \n",
    "dikdortgen_hesap(10,5)"
   ]
  },
  {
   "cell_type": "code",
   "execution_count": 39,
   "id": "9d051bb3",
   "metadata": {},
   "outputs": [
    {
     "name": "stdout",
     "output_type": "stream",
     "text": [
      "Bir daire yarıçapı girin: 10\n",
      "Girilen değer: 10\n",
      "Dairenin alanı: 314.0 birim kare\n"
     ]
    }
   ],
   "source": [
    "# Input\n",
    "\n",
    "daire_yaricap = int(input(\"Bir daire yarıçapı girin: \"))\n",
    "print(f'Girilen değer: {daire_yaricap}')\n",
    "alan_hesapla(daire_yaricap)"
   ]
  },
  {
   "cell_type": "code",
   "execution_count": 46,
   "id": "81de695a",
   "metadata": {},
   "outputs": [
    {
     "name": "stdout",
     "output_type": "stream",
     "text": [
      "Dairenin alanı: 78.5 birim kare\n",
      "Dairenin alanı: 28.26 birim kare\n",
      "106.76\n"
     ]
    }
   ],
   "source": [
    "# Return'u fonksiyona ekledik bu sayede atamalar yapılabiliyor.\n",
    "\n",
    "daire_alan_hesaplanan1 = alan_hesapla(5)\n",
    "daire_alan_hesaplanan2 = alan_hesapla(3)\n",
    "print(daire_alan_hesaplanan1 + daire_alan_hesaplanan2)"
   ]
  },
  {
   "cell_type": "code",
   "execution_count": 45,
   "id": "e54d4a76",
   "metadata": {},
   "outputs": [
    {
     "name": "stdout",
     "output_type": "stream",
     "text": [
      "Dairenin çevresi: 31.400000000000002 birim\n"
     ]
    },
    {
     "data": {
      "text/plain": [
       "31.400000000000002"
      ]
     },
     "execution_count": 45,
     "metadata": {},
     "output_type": "execute_result"
    }
   ],
   "source": [
    "# Dairenin çevresini hesaplayan fonksiyon\n",
    "\n",
    "def daire_cevre(yaricap2):\n",
    "    \"\"\"\n",
    "    Description: Bu fonksiyon, dairenin çevresini hesaplar.\n",
    "    Input parameters:\n",
    "        yaricap2 (float): Dairenin yarıçap uzunluğu.\n",
    "    Output:\n",
    "        float: Dairenin çevresi (2*pi*r) döndürülür.\n",
    "    \"\"\"\n",
    "    pi = 3.14\n",
    "    cevre = (2*pi*yaricap2)\n",
    "    \n",
    "    print(f\"Dairenin çevresi: {cevre} birim\")\n",
    "    return cevre\n",
    "\n",
    "daire_cevre(5)"
   ]
  }
 ],
 "metadata": {
  "kernelspec": {
   "display_name": "Python 3 (ipykernel)",
   "language": "python",
   "name": "python3"
  },
  "language_info": {
   "codemirror_mode": {
    "name": "ipython",
    "version": 3
   },
   "file_extension": ".py",
   "mimetype": "text/x-python",
   "name": "python",
   "nbconvert_exporter": "python",
   "pygments_lexer": "ipython3",
   "version": "3.11.5"
  }
 },
 "nbformat": 4,
 "nbformat_minor": 5
}
